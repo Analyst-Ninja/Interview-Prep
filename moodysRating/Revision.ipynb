{
 "cells": [
  {
   "cell_type": "markdown",
   "id": "a325d1e3-1e6b-4219-9977-89b04c0b1c57",
   "metadata": {},
   "source": [
    "#### Decorators"
   ]
  },
  {
   "cell_type": "code",
   "execution_count": 4,
   "id": "0e6f9f2a-69d5-4fac-ad2f-ee6658e81847",
   "metadata": {},
   "outputs": [
    {
     "data": {
      "text/plain": [
       "'Hi!'"
      ]
     },
     "execution_count": 4,
     "metadata": {},
     "output_type": "execute_result"
    }
   ],
   "source": [
    "def outer_function():\n",
    "    message = \"Hi!\"\n",
    "    def inner_function():\n",
    "        return message\n",
    "    return inner_function()\n",
    "\n",
    "outer_function()"
   ]
  },
  {
   "cell_type": "code",
   "execution_count": 9,
   "id": "470b0e09-0447-4da1-80a5-b2bed6206fdd",
   "metadata": {},
   "outputs": [
    {
     "data": {
      "text/plain": [
       "('Hi!', 'Hi!', 'Hi!', 'Hi!')"
      ]
     },
     "execution_count": 9,
     "metadata": {},
     "output_type": "execute_result"
    }
   ],
   "source": [
    "def outer_function():\n",
    "    message = \"Hi!\"\n",
    "    def inner_function():\n",
    "        return message\n",
    "    return inner_function\n",
    "\n",
    "func = outer_function()\n",
    "func(), func(), func(), func()"
   ]
  },
  {
   "cell_type": "code",
   "execution_count": 10,
   "id": "d16c8a2d-6ece-403a-8fc2-3313f819ab45",
   "metadata": {},
   "outputs": [
    {
     "data": {
      "text/plain": [
       "('Hi', 'Bye')"
      ]
     },
     "execution_count": 10,
     "metadata": {},
     "output_type": "execute_result"
    }
   ],
   "source": [
    "def outer_function(msg):\n",
    "    message = msg\n",
    "    def inner_function():\n",
    "        return message\n",
    "    return inner_function\n",
    "\n",
    "hi_function = outer_function('Hi') \n",
    "bye_function = outer_function('Bye') \n",
    "\n",
    "hi_function(), bye_function() "
   ]
  },
  {
   "cell_type": "code",
   "execution_count": 11,
   "id": "1c3f42a0-c874-4e6a-910c-bde168f49775",
   "metadata": {},
   "outputs": [
    {
     "data": {
      "text/plain": [
       "('Hi', 'Bye')"
      ]
     },
     "execution_count": 11,
     "metadata": {},
     "output_type": "execute_result"
    }
   ],
   "source": [
    "def outer_function(msg):\n",
    "    def inner_function():\n",
    "        return msg\n",
    "    return inner_function\n",
    "\n",
    "hi_function = outer_function('Hi') \n",
    "bye_function = outer_function('Bye') \n",
    "\n",
    "hi_function(), bye_function() "
   ]
  },
  {
   "cell_type": "code",
   "execution_count": 14,
   "id": "edbf3691-4452-4df8-af42-026ee0bb5e26",
   "metadata": {},
   "outputs": [
    {
     "data": {
      "text/plain": [
       "('Hi', 'Bye')"
      ]
     },
     "execution_count": 14,
     "metadata": {},
     "output_type": "execute_result"
    }
   ],
   "source": [
    "def decorator_func(msg):\n",
    "    def wrapper_func():\n",
    "        return msg\n",
    "    return wrapper_func\n",
    "\n",
    "hi_function = decorator_func('Hi') \n",
    "bye_function = decorator_func('Bye') \n",
    "\n",
    "hi_function(), bye_function() "
   ]
  },
  {
   "cell_type": "code",
   "execution_count": 20,
   "id": "3d0db5c3-9e48-434c-a8c9-a42933a8f094",
   "metadata": {},
   "outputs": [
    {
     "name": "stdout",
     "output_type": "stream",
     "text": [
      "Wrapper Function executed this before display\n",
      "Function has been executed!\n"
     ]
    }
   ],
   "source": [
    "def decorator_func(orginal_func):\n",
    "    def wrapper_func():\n",
    "        print(f'Wrapper Function executed this before {orginal_func.__name__}')\n",
    "        return orginal_func()\n",
    "    return wrapper_func\n",
    "\n",
    "def display():\n",
    "    print('Function has been executed!')\n",
    "\n",
    "display_func = decorator_func(display)\n",
    "\n",
    "display_func()"
   ]
  },
  {
   "cell_type": "code",
   "execution_count": 21,
   "id": "eaadfca4-ccf4-4390-8976-a6056eb7be41",
   "metadata": {},
   "outputs": [
    {
     "name": "stdout",
     "output_type": "stream",
     "text": [
      "Wrapper Function executed this before display\n",
      "Function has been executed!\n"
     ]
    }
   ],
   "source": [
    "def decorator_func(orginal_func):\n",
    "    def wrapper_func():\n",
    "        print(f'Wrapper Function executed this before {orginal_func.__name__}')\n",
    "        return orginal_func()\n",
    "    return wrapper_func\n",
    "@decorator_func\n",
    "def display():\n",
    "    print('Function has been executed!')\n",
    "\n",
    "display()"
   ]
  },
  {
   "cell_type": "code",
   "execution_count": 30,
   "id": "3295f902-ed45-4a54-8c08-fc2008f999e7",
   "metadata": {},
   "outputs": [
    {
     "name": "stdout",
     "output_type": "stream",
     "text": [
      "Call Method executed this before display\n",
      "Function has been executed!\n",
      "Call Method executed this before display_info\n",
      "Display Info ran with args (Jhon, 25)\n"
     ]
    }
   ],
   "source": [
    "def decorator_func(orginal_func):\n",
    "    def wrapper_func(*args,**kwargs):\n",
    "        print(f'Wrapper Function executed this before {orginal_func.__name__}')\n",
    "        return orginal_func(*args, **kwargs)\n",
    "    return wrapper_func\n",
    "\n",
    "class decorator_class(object):\n",
    "    def __init__(self, orginal_func):\n",
    "        self.orginal_func = orginal_func\n",
    "\n",
    "    def __call__(self, *args, **kwargs):\n",
    "        print(f'Call Method executed this before {self.orginal_func.__name__}')\n",
    "        return self.orginal_func(*args, **kwargs)\n",
    "    \n",
    "    \n",
    "@decorator_class\n",
    "def display():\n",
    "    print('Function has been executed!')\n",
    "@decorator_class\n",
    "def display_info(name, age):\n",
    "    print(f'Display Info ran with args ({name}, {age})')\n",
    "\n",
    "display()\n",
    "display_info('Jhon', 25)"
   ]
  },
  {
   "cell_type": "code",
   "execution_count": 44,
   "id": "5ceaa76c-15bd-4fe9-b9de-f299509dbad4",
   "metadata": {},
   "outputs": [
    {
     "name": "stdout",
     "output_type": "stream",
     "text": [
      "Before fuction with arguments (1,), {'b': 2}\n"
     ]
    },
    {
     "data": {
      "text/plain": [
       "3"
      ]
     },
     "execution_count": 44,
     "metadata": {},
     "output_type": "execute_result"
    }
   ],
   "source": [
    "def my_logger(func):\n",
    "    import logging\n",
    "    logging.basicConfig(\n",
    "        filename='my_log',\n",
    "        level=logging.INFO,\n",
    "        format='%(asctime)s - %(levelname)s - %(message)s',\n",
    "        datefmt='%Y-%m-%d %H:%M:%S'\n",
    "    )\n",
    "    def wrapper(*args,**kwargs):\n",
    "        logging.info(f'Before fuction with arguments {args}, {kwargs}')\n",
    "        print(f'Before fuction with arguments {args}, {kwargs}')\n",
    "        return func(*args, **kwargs)\n",
    "        \n",
    "    return wrapper\n",
    "    \n",
    "@my_logger\n",
    "def add_num(a,b):\n",
    "    return a+b\n",
    "\n",
    "add_num(1,b=2)"
   ]
  },
  {
   "cell_type": "code",
   "execution_count": 47,
   "id": "65d34419-8bd6-4829-820f-6863e4431b03",
   "metadata": {},
   "outputs": [
    {
     "name": "stdout",
     "output_type": "stream",
     "text": [
      "Before fuction with arguments (1000, 10000), {}\n",
      "wrapper executed in 1.0015418529510498 seconds.\n"
     ]
    },
    {
     "data": {
      "text/plain": [
       "11000"
      ]
     },
     "execution_count": 47,
     "metadata": {},
     "output_type": "execute_result"
    }
   ],
   "source": [
    "def my_timer(func):\n",
    "    import time\n",
    "    def wrapper(*args,**kwargs):\n",
    "        start = time.time()\n",
    "        result = func(*args, **kwargs)\n",
    "        end = time.time()\n",
    "        print(f'{func.__name__} executed in {end - start} seconds.')\n",
    "        return result\n",
    "    return wrapper\n",
    "\n",
    "import time\n",
    "\n",
    "@my_timer\n",
    "@my_logger\n",
    "def add_num(a,b):\n",
    "    time.sleep(1)\n",
    "    return a+b\n",
    "\n",
    "add_num(1000,10000)"
   ]
  },
  {
   "cell_type": "code",
   "execution_count": 48,
   "id": "786fd437-461b-4369-aa95-1dccd81eaee4",
   "metadata": {},
   "outputs": [
    {
     "name": "stdout",
     "output_type": "stream",
     "text": [
      "Before fuction with arguments (1000, 10000), {}\n",
      "add_num executed in 1.0017950534820557 seconds.\n"
     ]
    },
    {
     "data": {
      "text/plain": [
       "11000"
      ]
     },
     "execution_count": 48,
     "metadata": {},
     "output_type": "execute_result"
    }
   ],
   "source": [
    "from functools import wraps\n",
    "\n",
    "def my_timer(func):\n",
    "    import time\n",
    "    @wraps(func)\n",
    "    def wrapper(*args,**kwargs):\n",
    "        start = time.time()\n",
    "        result = func(*args, **kwargs)\n",
    "        end = time.time()\n",
    "        print(f'{func.__name__} executed in {end - start} seconds.')\n",
    "        return result\n",
    "    return wrapper\n",
    "\n",
    "def my_logger(func):\n",
    "    import logging\n",
    "    logging.basicConfig(\n",
    "        filename='my_log',\n",
    "        level=logging.INFO,\n",
    "        format='%(asctime)s - %(levelname)s - %(message)s',\n",
    "        datefmt='%Y-%m-%d %H:%M:%S'\n",
    "    )\n",
    "    @wraps(func)\n",
    "    def wrapper(*args,**kwargs):\n",
    "        logging.info(f'Before fuction with arguments {args}, {kwargs}')\n",
    "        print(f'Before fuction with arguments {args}, {kwargs}')\n",
    "        return func(*args, **kwargs)\n",
    "        \n",
    "    return wrapper\n",
    "\n",
    "import time\n",
    "\n",
    "@my_timer\n",
    "@my_logger\n",
    "def add_num(a,b):\n",
    "    time.sleep(1)\n",
    "    return a+b\n",
    "\n",
    "add_num(1000,10000)"
   ]
  },
  {
   "cell_type": "code",
   "execution_count": null,
   "id": "edcf438f-7dd3-443c-b7e2-b9d3a8cea0c0",
   "metadata": {},
   "outputs": [],
   "source": []
  }
 ],
 "metadata": {
  "kernelspec": {
   "display_name": "Python 3 (ipykernel)",
   "language": "python",
   "name": "python3"
  },
  "language_info": {
   "codemirror_mode": {
    "name": "ipython",
    "version": 3
   },
   "file_extension": ".py",
   "mimetype": "text/x-python",
   "name": "python",
   "nbconvert_exporter": "python",
   "pygments_lexer": "ipython3",
   "version": "3.10.12"
  }
 },
 "nbformat": 4,
 "nbformat_minor": 5
}
