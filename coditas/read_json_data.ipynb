{
 "cells": [
  {
   "cell_type": "code",
   "execution_count": 31,
   "id": "9dd8cdda-1a13-4ed9-9e4c-21fca50c9a25",
   "metadata": {},
   "outputs": [
    {
     "data": {
      "text/html": [
       "<style>pre { white-space: pre !important; }</style>"
      ],
      "text/plain": [
       "<IPython.core.display.HTML object>"
      ]
     },
     "metadata": {},
     "output_type": "display_data"
    }
   ],
   "source": [
    "from pyspark.sql import SparkSession\n",
    "from pyspark.sql.types import *\n",
    "from pyspark.sql.functions import from_json\n",
    "from IPython.display import display, HTML\n",
    "display(HTML(\"<style>pre { white-space: pre !important; }</style>\"))"
   ]
  },
  {
   "cell_type": "code",
   "execution_count": 9,
   "id": "d864ebb3-b212-4b69-b7aa-1a072ebde4c0",
   "metadata": {},
   "outputs": [],
   "source": [
    "from pyspark.sql import SparkSession\n",
    "from pyspark.sql.types import *\n",
    "from pyspark.sql.functions import from_json\n",
    "from IPython.display import display, HTML\n",
    "display(HTML(\"<style>pre { white-space: pre !important; }</style>\"))\n",
    "\n",
    "data = \"\"\"\n",
    "[\n",
    "  {\n",
    "    \"name\": \"Jane Smith\",\n",
    "    \"age\": 28,\n",
    "    \"purchases\": [\n",
    "      {\n",
    "        \"product_id\": \"B001\",\n",
    "        \"product_name\": \"Tablet\",\n",
    "        \"price\": 399.99,\n",
    "        \"quantity\": 1,\n",
    "        \"purchase_date\": \"2023-06-20\"\n",
    "      },\n",
    "      {\n",
    "        \"product_id\": \"B002\",\n",
    "        \"product_name\": \"Smartwatch\",\n",
    "        \"price\": 249.99,\n",
    "        \"quantity\": 1,\n",
    "        \"purchase_date\": \"2023-07-05\"\n",
    "      }\n",
    "    ]\n",
    "  },\n",
    "  {\n",
    "    \"name\": \"Alice Johnson\",\n",
    "    \"age\": 35,\n",
    "    \"purchases\": [\n",
    "      {\n",
    "        \"product_id\": \"C001\",\n",
    "        \"product_name\": \"Bluetooth Speaker\",\n",
    "        \"price\": 149.99,\n",
    "        \"quantity\": 1,\n",
    "        \"purchase_date\": \"2023-08-10\"\n",
    "      },\n",
    "      {\n",
    "        \"product_id\": \"C002\",\n",
    "        \"product_name\": \"Camera\",\n",
    "        \"price\": 199.99,\n",
    "        \"quantity\": 1,\n",
    "        \"purchase_date\": \"2023-08-25\"\n",
    "      },\n",
    "      {\n",
    "        \"product_id\": \"C003\",\n",
    "        \"product_name\": \"VR Headset\",\n",
    "        \"price\": 299.99,\n",
    "        \"quantity\": 1,\n",
    "        \"purchase_date\": \"2023-09-12\"\n",
    "      }\n",
    "    ]\n",
    "  },\n",
    "  {\n",
    "    \"name\": \"John Doe\",\n",
    "    \"age\": 30,\n",
    "    \"purchases\": [\n",
    "      {\n",
    "        \"product_id\": \"A001\",\n",
    "        \"product_name\": \"Smartphone\",\n",
    "        \"price\": 699.99,\n",
    "        \"quantity\": 1,\n",
    "        \"purchase_date\": \"2023-07-15\"\n",
    "      },\n",
    "      {\n",
    "        \"product_id\": \"A002\",\n",
    "        \"product_name\": \"Laptop\",\n",
    "        \"price\": 999.99,\n",
    "        \"quantity\": 1,\n",
    "        \"purchase_date\": \"2023-08-02\"\n",
    "      },\n",
    "      {\n",
    "        \"product_id\": \"A003\",\n",
    "        \"product_name\": \"Wireless Headphones\",\n",
    "        \"price\": 199.99,\n",
    "        \"quantity\": 2,\n",
    "        \"purchase_date\": \"2023-09-10\"\n",
    "      }\n",
    "    ]\n",
    "  }\n",
    "]\n",
    "\"\"\""
   ]
  },
  {
   "cell_type": "code",
   "execution_count": 4,
   "id": "3d782206-6d6e-48fc-85d5-6027d2ebeade",
   "metadata": {},
   "outputs": [
    {
     "name": "stderr",
     "output_type": "stream",
     "text": [
      "24/11/12 09:18:41 WARN Utils: Your hostname, codebase resolves to a loopback address: 127.0.1.1; using 10.255.255.254 instead (on interface lo)\n",
      "24/11/12 09:18:41 WARN Utils: Set SPARK_LOCAL_IP if you need to bind to another address\n",
      "Setting default log level to \"WARN\".\n",
      "To adjust logging level use sc.setLogLevel(newLevel). For SparkR, use setLogLevel(newLevel).\n",
      "24/11/12 09:18:42 WARN NativeCodeLoader: Unable to load native-hadoop library for your platform... using builtin-java classes where applicable\n"
     ]
    }
   ],
   "source": [
    "spark = SparkSession.Builder().appName('json_data').getOrCreate()"
   ]
  },
  {
   "cell_type": "code",
   "execution_count": 10,
   "id": "a624748c-15ea-4980-89c3-47d7f0987d91",
   "metadata": {},
   "outputs": [],
   "source": [
    "schema = StructType([\n",
    "    StructField('name', StringType()),\n",
    "    StructField('age', IntegerType()),\n",
    "    StructField('purchases', ArrayType(\n",
    "        StructType([\n",
    "            StructField('product_id', StringType()),\n",
    "            StructField('product_name', StringType()),\n",
    "            StructField('price', DoubleType()),\n",
    "            StructField('quantity', IntegerType()),\n",
    "            StructField('purchase_date', StringType()),\n",
    "        ])\n",
    "    )),\n",
    "])"
   ]
  },
  {
   "cell_type": "code",
   "execution_count": 29,
   "id": "257349e4-d085-471e-8e39-2af02d0ab056",
   "metadata": {},
   "outputs": [
    {
     "name": "stdout",
     "output_type": "stream",
     "text": [
      "+-------------+---+--------------------+\n",
      "|         name|age|           purchases|\n",
      "+-------------+---+--------------------+\n",
      "|   Jane Smith| 28|[{B001, Tablet, 3...|\n",
      "|Alice Johnson| 35|[{C001, Bluetooth...|\n",
      "|     John Doe| 30|[{A001, Smartphon...|\n",
      "+-------------+---+--------------------+\n",
      "\n"
     ]
    }
   ],
   "source": [
    "df = spark.read.json(spark.sparkContext.parallelize([data]), schema = schema, multiLine=True)\n",
    "df.show()"
   ]
  },
  {
   "cell_type": "code",
   "execution_count": 30,
   "id": "fd0825fa-6c33-4866-85c9-9b1e69e81cd5",
   "metadata": {},
   "outputs": [
    {
     "name": "stdout",
     "output_type": "stream",
     "text": [
      "+-------------+---+--------------------+--------------------+----------+-------------------+------+--------+-------------+\n",
      "|         name|age|           purchases|            purchase|product_id|       product_name| price|quantity|purchase_date|\n",
      "+-------------+---+--------------------+--------------------+----------+-------------------+------+--------+-------------+\n",
      "|   Jane Smith| 28|[{B001, Tablet, 3...|{B001, Tablet, 39...|      B001|             Tablet|399.99|       1|   2023-06-20|\n",
      "|   Jane Smith| 28|[{B001, Tablet, 3...|{B002, Smartwatch...|      B002|         Smartwatch|249.99|       1|   2023-07-05|\n",
      "|Alice Johnson| 35|[{C001, Bluetooth...|{C001, Bluetooth ...|      C001|  Bluetooth Speaker|149.99|       1|   2023-08-10|\n",
      "|Alice Johnson| 35|[{C001, Bluetooth...|{C002, Camera, 19...|      C002|             Camera|199.99|       1|   2023-08-25|\n",
      "|Alice Johnson| 35|[{C001, Bluetooth...|{C003, VR Headset...|      C003|         VR Headset|299.99|       1|   2023-09-12|\n",
      "|     John Doe| 30|[{A001, Smartphon...|{A001, Smartphone...|      A001|         Smartphone|699.99|       1|   2023-07-15|\n",
      "|     John Doe| 30|[{A001, Smartphon...|{A002, Laptop, 99...|      A002|             Laptop|999.99|       1|   2023-08-02|\n",
      "|     John Doe| 30|[{A001, Smartphon...|{A003, Wireless H...|      A003|Wireless Headphones|199.99|       2|   2023-09-10|\n",
      "+-------------+---+--------------------+--------------------+----------+-------------------+------+--------+-------------+\n",
      "\n"
     ]
    }
   ],
   "source": [
    "df_exploded = df.withColumn('purchase', explode('purchases'))\n",
    "df_exploded = df_exploded.select(\n",
    "    \"*\",\n",
    "    \"purchase.product_id\",\n",
    "    \"purchase.product_name\",\n",
    "    \"purchase.price\",\n",
    "    \"purchase.quantity\",\n",
    "    \"purchase.purchase_date\"\n",
    ")\n",
    "df_exploded.show()"
   ]
  },
  {
   "cell_type": "code",
   "execution_count": 32,
   "id": "bb8c3af3-2183-46fc-82ee-c375008d009e",
   "metadata": {},
   "outputs": [],
   "source": [
    "spark.stop()"
   ]
  },
  {
   "cell_type": "code",
   "execution_count": 33,
   "id": "444bde87-cecb-4608-8edf-2a1987bc6d8f",
   "metadata": {},
   "outputs": [
    {
     "name": "stdout",
     "output_type": "stream",
     "text": [
      "/home/de-ninja/Documents/Interview-Prep/coditas\n"
     ]
    }
   ],
   "source": [
    "!pwd"
   ]
  },
  {
   "cell_type": "code",
   "execution_count": null,
   "id": "da4def32-eef0-4ae8-be11-fbc5db180f1c",
   "metadata": {},
   "outputs": [],
   "source": []
  }
 ],
 "metadata": {
  "kernelspec": {
   "display_name": "Python 3 (ipykernel)",
   "language": "python",
   "name": "python3"
  },
  "language_info": {
   "codemirror_mode": {
    "name": "ipython",
    "version": 3
   },
   "file_extension": ".py",
   "mimetype": "text/x-python",
   "name": "python",
   "nbconvert_exporter": "python",
   "pygments_lexer": "ipython3",
   "version": "3.12.3"
  }
 },
 "nbformat": 4,
 "nbformat_minor": 5
}
