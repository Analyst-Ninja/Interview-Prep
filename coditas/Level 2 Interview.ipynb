{
 "cells": [
  {
   "cell_type": "code",
   "execution_count": 7,
   "id": "13e9e32d-9b50-4ef7-b5cc-115f18305d2a",
   "metadata": {},
   "outputs": [],
   "source": [
    "data = {\n",
    "    \"journal\": {\n",
    "        \"batchName\": \"Test\",\n",
    "            \"lines\": [\n",
    "              {\n",
    "                \"lineNumber\": 1,\n",
    "                \"lineDescription\": \"Something\",\n",
    "                \"companyCode\": \"100\",\n",
    "                \"debit\": 0,\n",
    "                \"credit\": 27,\n",
    "                \"accountedDebit\": 0,\n",
    "                \"accountedCredit\": 27\n",
    "              },\n",
    "              {\n",
    "                \"lineNumber\": 2,\n",
    "                \"lineDescription\": \"Somethingg\",\n",
    "                \"companyCode\": \"100\",\n",
    "                \"debit\": 27,\n",
    "                \"credit\": 0,\n",
    "                \"accountedDebit\": 27,\n",
    "                \"accountedCredit\": 0\n",
    "              }\n",
    "            ]\n",
    "  }\n",
    "}"
   ]
  },
  {
   "cell_type": "code",
   "execution_count": 2,
   "id": "6bedb9c1-2559-4e18-9479-32c204339458",
   "metadata": {},
   "outputs": [],
   "source": [
    "from pyspark.sql import SparkSession\n",
    "from pyspark.sql.types import *"
   ]
  },
  {
   "cell_type": "code",
   "execution_count": 3,
   "id": "79346f3b-52b7-4a45-982b-8b915c5c3688",
   "metadata": {},
   "outputs": [
    {
     "name": "stderr",
     "output_type": "stream",
     "text": [
      "24/11/15 16:46:14 WARN Utils: Your hostname, codebase resolves to a loopback address: 127.0.1.1; using 10.255.255.254 instead (on interface lo)\n",
      "24/11/15 16:46:14 WARN Utils: Set SPARK_LOCAL_IP if you need to bind to another address\n",
      "Setting default log level to \"WARN\".\n",
      "To adjust logging level use sc.setLogLevel(newLevel). For SparkR, use setLogLevel(newLevel).\n",
      "24/11/15 16:46:16 WARN NativeCodeLoader: Unable to load native-hadoop library for your platform... using builtin-java classes where applicable\n",
      "24/11/15 16:46:37 WARN GarbageCollectionMetrics: To enable non-built-in garbage collector(s) List(G1 Concurrent GC), users should configure it(them) to spark.eventLog.gcMetrics.youngGenerationGarbageCollectors or spark.eventLog.gcMetrics.oldGenerationGarbageCollectors\n"
     ]
    }
   ],
   "source": [
    "spark = SparkSession.builder.appName('Coditas').getOrCreate()"
   ]
  },
  {
   "cell_type": "code",
   "execution_count": 10,
   "id": "3bfa11d9-7978-4ccc-b6aa-59d8236296d1",
   "metadata": {},
   "outputs": [],
   "source": [
    "data_2 = data['journal']['lines']"
   ]
  },
  {
   "cell_type": "code",
   "execution_count": 11,
   "id": "b51ea525-faa5-4919-b71d-99dc2ab13031",
   "metadata": {},
   "outputs": [
    {
     "data": {
      "text/plain": [
       "[{'lineNumber': 1,\n",
       "  'lineDescription': 'Something',\n",
       "  'companyCode': '100',\n",
       "  'debit': 0,\n",
       "  'credit': 27,\n",
       "  'accountedDebit': 0,\n",
       "  'accountedCredit': 27},\n",
       " {'lineNumber': 2,\n",
       "  'lineDescription': 'Somethingg',\n",
       "  'companyCode': '100',\n",
       "  'debit': 27,\n",
       "  'credit': 0,\n",
       "  'accountedDebit': 27,\n",
       "  'accountedCredit': 0}]"
      ]
     },
     "execution_count": 11,
     "metadata": {},
     "output_type": "execute_result"
    }
   ],
   "source": [
    "data_2"
   ]
  },
  {
   "cell_type": "code",
   "execution_count": 12,
   "id": "aa8cba75-4493-4edb-b9c0-4e1e58cca98e",
   "metadata": {},
   "outputs": [],
   "source": [
    "schema = StructType([\n",
    "    StructField('lineNumber', IntegerType(),  False),\n",
    "    StructField('lineDescription', StringType(),  False),\n",
    "    StructField('companyCode', StringType(),  False),\n",
    "    StructField('debit', StringType(),  False),\n",
    "    StructField('credit', IntegerType(),  False),\n",
    "    StructField('accountedDebit', IntegerType(),  False),\n",
    "    StructField('accountedCredit', IntegerType(),  False),\n",
    "])"
   ]
  },
  {
   "cell_type": "code",
   "execution_count": 18,
   "id": "4716bddc-64d3-4593-97da-f957a16c79c7",
   "metadata": {},
   "outputs": [
    {
     "name": "stdout",
     "output_type": "stream",
     "text": [
      "root\n",
      " |-- accountedCredit: long (nullable = true)\n",
      " |-- accountedDebit: long (nullable = true)\n",
      " |-- companyCode: string (nullable = true)\n",
      " |-- credit: long (nullable = true)\n",
      " |-- debit: long (nullable = true)\n",
      " |-- lineDescription: string (nullable = true)\n",
      " |-- lineNumber: long (nullable = true)\n",
      "\n"
     ]
    }
   ],
   "source": [
    "spark.createDataFrame(data_2).printSchema()"
   ]
  },
  {
   "cell_type": "code",
   "execution_count": 14,
   "id": "01fe8ce5-332b-461b-9c53-02094af38c4b",
   "metadata": {},
   "outputs": [],
   "source": [
    "s=[1,2,3,4,8,9,1,2,3]\n",
    "# find duplicates in python"
   ]
  },
  {
   "cell_type": "code",
   "execution_count": 15,
   "id": "c00429c1-bc94-4fd9-94ac-4b0415595a26",
   "metadata": {},
   "outputs": [
    {
     "data": {
      "text/plain": [
       "{1: 2, 2: 2, 3: 2, 4: 1, 8: 1, 9: 1}"
      ]
     },
     "execution_count": 15,
     "metadata": {},
     "output_type": "execute_result"
    }
   ],
   "source": [
    "s=[1,2,3,4,8,9,1,2,3]\n",
    "# find duplicates in python\n",
    "d = {}\n",
    "for i in s:\n",
    "    if i in d.keys():\n",
    "        d[i]+=1\n",
    "    else: \n",
    "        d[i] = 1"
   ]
  },
  {
   "cell_type": "code",
   "execution_count": 16,
   "id": "9626bd30-6f3a-413a-b586-aa66fad44bfd",
   "metadata": {},
   "outputs": [
    {
     "data": {
      "text/plain": [
       "[1, 2, 3]"
      ]
     },
     "execution_count": 16,
     "metadata": {},
     "output_type": "execute_result"
    }
   ],
   "source": [
    "ans_l = []\n",
    "for k,v in d.items():\n",
    "    if v > 1:\n",
    "        ans_l.append(k)\n",
    "ans_l"
   ]
  },
  {
   "cell_type": "code",
   "execution_count": null,
   "id": "b49c74ea-9b92-401f-aa0e-fc53bed6ce0c",
   "metadata": {},
   "outputs": [],
   "source": []
  }
 ],
 "metadata": {
  "kernelspec": {
   "display_name": "Python 3 (ipykernel)",
   "language": "python",
   "name": "python3"
  },
  "language_info": {
   "codemirror_mode": {
    "name": "ipython",
    "version": 3
   },
   "file_extension": ".py",
   "mimetype": "text/x-python",
   "name": "python",
   "nbconvert_exporter": "python",
   "pygments_lexer": "ipython3",
   "version": "3.12.3"
  }
 },
 "nbformat": 4,
 "nbformat_minor": 5
}
