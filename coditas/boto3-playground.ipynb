{
 "cells": [
  {
   "cell_type": "code",
   "execution_count": null,
   "id": "e66a5d45-1409-4382-9a31-48e50fda26e2",
   "metadata": {},
   "outputs": [
    {
     "ename": "",
     "evalue": "",
     "output_type": "error",
     "traceback": [
      "\u001b[1;31mRunning cells with 'Python 3.12.3' requires the ipykernel package.\n",
      "\u001b[1;31mRun the following command to install 'ipykernel' into the Python environment. \n",
      "\u001b[1;31mCommand: '/bin/python3 -m pip install ipykernel -U --user --force-reinstall'"
     ]
    }
   ],
   "source": [
    "import boto3\n",
    "from config import configurations"
   ]
  },
  {
   "cell_type": "code",
   "execution_count": null,
   "id": "8dbeb870-9f09-4e57-accc-4c3a56a2e287",
   "metadata": {},
   "outputs": [],
   "source": [
    "BUCKET_NAME = 'simple-s3-for-demo'"
   ]
  },
  {
   "cell_type": "code",
   "execution_count": null,
   "id": "871748c4-9535-4a37-9cab-08b5ceacfce3",
   "metadata": {},
   "outputs": [],
   "source": [
    "s3 = boto3.client('s3',\n",
    "                 aws_access_key_id = configurations['AWS_ACCESS_KEY'],\n",
    "                 aws_secret_access_key = configurations['AWS_SECRET_KEY'])"
   ]
  },
  {
   "cell_type": "code",
   "execution_count": null,
   "id": "dbd1505c-8b39-4af7-b907-3503a7e8c2d1",
   "metadata": {},
   "outputs": [],
   "source": [
    "# List the buckets\n",
    "\n",
    "bucket_resp = s3.list_buckets()\n",
    "\n",
    "for bucket in bucket_resp['Buckets']:\n",
    "    print(bucket)"
   ]
  },
  {
   "cell_type": "code",
   "execution_count": null,
   "id": "8c68d563-1c9e-4195-aebb-3dd66cc6f646",
   "metadata": {},
   "outputs": [],
   "source": [
    "# List all the objects in the bucket\n",
    "from pprint import pprint\n",
    "response = s3.list_objects_v2(Bucket='simple-s3-for-demo')"
   ]
  },
  {
   "cell_type": "code",
   "execution_count": null,
   "id": "1c296b99-879b-4b9a-8c01-8f6c6c911baa",
   "metadata": {},
   "outputs": [],
   "source": [
    "pprint(response)"
   ]
  },
  {
   "cell_type": "code",
   "execution_count": null,
   "id": "f8c13520-59a0-4055-9b73-c0ace0583a42",
   "metadata": {},
   "outputs": [],
   "source": []
  }
 ],
 "metadata": {
  "kernelspec": {
   "display_name": "Python 3",
   "language": "python",
   "name": "python3"
  },
  "language_info": {
   "codemirror_mode": {
    "name": "ipython",
    "version": 3
   },
   "file_extension": ".py",
   "mimetype": "text/x-python",
   "name": "python",
   "nbconvert_exporter": "python",
   "pygments_lexer": "ipython3",
   "version": "3.12.3"
  }
 },
 "nbformat": 4,
 "nbformat_minor": 5
}
