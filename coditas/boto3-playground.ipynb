{
 "cells": [
  {
   "cell_type": "code",
   "execution_count": 7,
   "id": "e66a5d45-1409-4382-9a31-48e50fda26e2",
   "metadata": {},
   "outputs": [],
   "source": [
    "import boto3\n",
    "from config import configurations"
   ]
  },
  {
   "cell_type": "code",
   "execution_count": 4,
   "id": "8dbeb870-9f09-4e57-accc-4c3a56a2e287",
   "metadata": {},
   "outputs": [],
   "source": [
    "BUCKET_NAME = 'simple-s3-for-demo'"
   ]
  },
  {
   "cell_type": "code",
   "execution_count": 8,
   "id": "871748c4-9535-4a37-9cab-08b5ceacfce3",
   "metadata": {},
   "outputs": [],
   "source": [
    "s3 = boto3.client('s3',\n",
    "                 aws_access_key_id = configurations['AWS_ACCESS_KEY'],\n",
    "                 aws_secret_access_key = configurations['AWS_SECRET_KEY'])"
   ]
  },
  {
   "cell_type": "code",
   "execution_count": 14,
   "id": "dbd1505c-8b39-4af7-b907-3503a7e8c2d1",
   "metadata": {},
   "outputs": [
    {
     "name": "stdout",
     "output_type": "stream",
     "text": [
      "{'Name': 'rt-logistics-etl-spark-streaming-data', 'CreationDate': datetime.datetime(2024, 9, 23, 14, 47, 10, tzinfo=tzutc())}\n",
      "{'Name': 'simple-s3-for-demo', 'CreationDate': datetime.datetime(2024, 11, 19, 11, 12, 15, tzinfo=tzutc())}\n",
      "{'Name': 'smart-city-etl-spark-streaming-data', 'CreationDate': datetime.datetime(2024, 11, 19, 13, 32, 55, tzinfo=tzutc())}\n"
     ]
    }
   ],
   "source": [
    "# List the buckets\n",
    "\n",
    "bucket_resp = s3.list_buckets()\n",
    "\n",
    "for bucket in bucket_resp['Buckets']:\n",
    "    print(bucket)"
   ]
  },
  {
   "cell_type": "code",
   "execution_count": 19,
   "id": "8c68d563-1c9e-4195-aebb-3dd66cc6f646",
   "metadata": {},
   "outputs": [],
   "source": [
    "# List all the objects in the bucket\n",
    "from pprint import pprint\n",
    "response = s3.list_objects_v2(Bucket='simple-s3-for-demo')"
   ]
  },
  {
   "cell_type": "code",
   "execution_count": 20,
   "id": "1c296b99-879b-4b9a-8c01-8f6c6c911baa",
   "metadata": {},
   "outputs": [
    {
     "name": "stdout",
     "output_type": "stream",
     "text": [
      "{'Contents': [{'ETag': '\"d734748f1c46e504bc22c6821893b86b\"',\n",
      "               'Key': 'Customer_Updated.csv',\n",
      "               'LastModified': datetime.datetime(2024, 11, 19, 11, 46, 24, tzinfo=tzutc()),\n",
      "               'Size': 153,\n",
      "               'StorageClass': 'STANDARD'},\n",
      "              {'ETag': '\"d41d8cd98f00b204e9800998ecf8427e\"',\n",
      "               'Key': 'employeeDtaa/_SUCCESS',\n",
      "               'LastModified': datetime.datetime(2024, 11, 19, 13, 40, 46, tzinfo=tzutc()),\n",
      "               'Size': 0,\n",
      "               'StorageClass': 'STANDARD'},\n",
      "              {'ETag': '\"b0c5d34e27f331d83336220284b3509b\"',\n",
      "               'Key': 'employeeDtaa/designation=Analyst/part-00000-082d955a-0211-44dd-9f36-2e7e15c425f5.c000.snappy.parquet',\n",
      "               'LastModified': datetime.datetime(2024, 11, 19, 13, 40, 37, tzinfo=tzutc()),\n",
      "               'Size': 1142,\n",
      "               'StorageClass': 'STANDARD'},\n",
      "              {'ETag': '\"ad34807003066722cb2d1de78199f7c5\"',\n",
      "               'Key': 'employeeDtaa/designation=Data '\n",
      "                      'Scientist/part-00000-082d955a-0211-44dd-9f36-2e7e15c425f5.c000.snappy.parquet',\n",
      "               'LastModified': datetime.datetime(2024, 11, 19, 13, 40, 39, tzinfo=tzutc()),\n",
      "               'Size': 1129,\n",
      "               'StorageClass': 'STANDARD'},\n",
      "              {'ETag': '\"5d69e269f78c1ae648bff3496c0cf567\"',\n",
      "               'Key': 'employeeDtaa/designation=Developer/part-00000-082d955a-0211-44dd-9f36-2e7e15c425f5.c000.snappy.parquet',\n",
      "               'LastModified': datetime.datetime(2024, 11, 19, 13, 40, 40, tzinfo=tzutc()),\n",
      "               'Size': 1129,\n",
      "               'StorageClass': 'STANDARD'},\n",
      "              {'ETag': '\"b5f1c32263c833484413210fcd608336\"',\n",
      "               'Key': 'employeeDtaa/designation=Engineer/part-00000-082d955a-0211-44dd-9f36-2e7e15c425f5.c000.snappy.parquet',\n",
      "               'LastModified': datetime.datetime(2024, 11, 19, 13, 40, 42, tzinfo=tzutc()),\n",
      "               'Size': 1143,\n",
      "               'StorageClass': 'STANDARD'},\n",
      "              {'ETag': '\"50b75a71d52a4cd2f264b98d786a1aa0\"',\n",
      "               'Key': 'employeeDtaa/designation=Manager/part-00000-082d955a-0211-44dd-9f36-2e7e15c425f5.c000.snappy.parquet',\n",
      "               'LastModified': datetime.datetime(2024, 11, 19, 13, 40, 44, tzinfo=tzutc()),\n",
      "               'Size': 1157,\n",
      "               'StorageClass': 'STANDARD'}],\n",
      " 'EncodingType': 'url',\n",
      " 'IsTruncated': False,\n",
      " 'KeyCount': 7,\n",
      " 'MaxKeys': 1000,\n",
      " 'Name': 'simple-s3-for-demo',\n",
      " 'Prefix': '',\n",
      " 'ResponseMetadata': {'HTTPHeaders': {'content-type': 'application/xml',\n",
      "                                      'date': 'Tue, 19 Nov 2024 15:55:22 GMT',\n",
      "                                      'server': 'AmazonS3',\n",
      "                                      'transfer-encoding': 'chunked',\n",
      "                                      'x-amz-bucket-region': 'ap-south-1',\n",
      "                                      'x-amz-id-2': 'IFtPt38strZPtq+TyNq9Ce9GlQzie3fimjmGcRQQqCFmuPyM6wZ/GqEysap717COU//bPJfYwQQ=',\n",
      "                                      'x-amz-request-id': '4YTCCCDTXY57M6JR'},\n",
      "                      'HTTPStatusCode': 200,\n",
      "                      'HostId': 'IFtPt38strZPtq+TyNq9Ce9GlQzie3fimjmGcRQQqCFmuPyM6wZ/GqEysap717COU//bPJfYwQQ=',\n",
      "                      'RequestId': '4YTCCCDTXY57M6JR',\n",
      "                      'RetryAttempts': 0}}\n"
     ]
    }
   ],
   "source": [
    "pprint(response)"
   ]
  },
  {
   "cell_type": "code",
   "execution_count": null,
   "id": "f8c13520-59a0-4055-9b73-c0ace0583a42",
   "metadata": {},
   "outputs": [],
   "source": []
  }
 ],
 "metadata": {
  "kernelspec": {
   "display_name": "Python 3 (ipykernel)",
   "language": "python",
   "name": "python3"
  },
  "language_info": {
   "codemirror_mode": {
    "name": "ipython",
    "version": 3
   },
   "file_extension": ".py",
   "mimetype": "text/x-python",
   "name": "python",
   "nbconvert_exporter": "python",
   "pygments_lexer": "ipython3",
   "version": "3.10.12"
  }
 },
 "nbformat": 4,
 "nbformat_minor": 5
}
