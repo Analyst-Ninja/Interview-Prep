{
 "cells": [
  {
   "cell_type": "code",
   "execution_count": 7,
   "id": "8adfc694-ace9-46f7-9e64-5988f96abd6a",
   "metadata": {},
   "outputs": [],
   "source": []
  },
  {
   "cell_type": "code",
   "execution_count": 11,
   "id": "cac40bd1-40b6-469c-b54a-edc6466333eb",
   "metadata": {},
   "outputs": [],
   "source": [
    "l = [1,2,3,3,3,3,5,6,6]\n",
    "count_dict = {}\n",
    "duplicates = {}\n",
    "for i in l:\n",
    "    if i in count_dict.keys():\n",
    "        count_dict[i]+=1\n",
    "    else:\n",
    "        count_dict[i] = 1\n",
    "\n",
    "    # Add to duplicates if it appears more than once\n",
    "    if count_dict[i] > 1:\n",
    "        duplicates[i] = count_dict[i]"
   ]
  },
  {
   "cell_type": "code",
   "execution_count": 11,
   "id": "a80a8697-6f66-47e1-8ad4-8f290ea7a23d",
   "metadata": {},
   "outputs": [
    {
     "data": {
      "text/plain": [
       "192"
      ]
     },
     "execution_count": 11,
     "metadata": {},
     "output_type": "execute_result"
    }
   ],
   "source": [
    "# 100 GB \n",
    "\n",
    "# driver = 6 -8 GB\n",
    "# executer = 8 GB\n",
    "# no of core = 4 -6 \n",
    "# no of executer = 4\n",
    "\n",
    "# RAM  =32 "
   ]
  },
  {
   "cell_type": "code",
   "execution_count": null,
   "id": "e98fa2a8-3357-4f4b-afc4-32cf3088d8bb",
   "metadata": {},
   "outputs": [],
   "source": []
  }
 ],
 "metadata": {
  "kernelspec": {
   "display_name": "Python 3 (ipykernel)",
   "language": "python",
   "name": "python3"
  },
  "language_info": {
   "codemirror_mode": {
    "name": "ipython",
    "version": 3
   },
   "file_extension": ".py",
   "mimetype": "text/x-python",
   "name": "python",
   "nbconvert_exporter": "python",
   "pygments_lexer": "ipython3",
   "version": "3.12.3"
  }
 },
 "nbformat": 4,
 "nbformat_minor": 5
}
