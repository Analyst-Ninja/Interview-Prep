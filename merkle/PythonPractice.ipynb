{
 "cells": [
  {
   "cell_type": "code",
   "execution_count": 1,
   "id": "b2b2ad56-a54a-433f-9804-6ea4a087e3b8",
   "metadata": {},
   "outputs": [],
   "source": [
    "matrix = [[3, 1, 2],[4, 5, 6],[7, 8, 9]]"
   ]
  },
  {
   "cell_type": "code",
   "execution_count": 2,
   "id": "0eebf95b-2065-417d-9123-ab35c79e58f3",
   "metadata": {},
   "outputs": [
    {
     "data": {
      "text/plain": [
       "[[3, 1, 2], [4, 5, 6], [7, 8, 9]]"
      ]
     },
     "execution_count": 2,
     "metadata": {},
     "output_type": "execute_result"
    }
   ],
   "source": [
    "matrix"
   ]
  },
  {
   "cell_type": "code",
   "execution_count": 9,
   "id": "bdb8f6a1-c9cb-4bac-b1d6-4bf59ca49839",
   "metadata": {},
   "outputs": [],
   "source": [
    "def max_three(input):\n",
    "    max_prod = -100000000000\n",
    "    for i in input:\n",
    "        for j in input:\n",
    "            if j != i:\n",
    "                for k in input:\n",
    "                    if k != j and k != i:\n",
    "                        prod = i * j * k \n",
    "                        max_prod = max(prod, max_prod)\n",
    "    return max_prod"
   ]
  },
  {
   "cell_type": "code",
   "execution_count": 10,
   "id": "78b85c03-5a01-452a-8715-2dd3c3bdcd72",
   "metadata": {},
   "outputs": [],
   "source": [
    "l = [1,2,23,34,-1,-200]"
   ]
  },
  {
   "cell_type": "code",
   "execution_count": 11,
   "id": "9a0bcb79-8770-426e-a718-228ed213b5e0",
   "metadata": {},
   "outputs": [
    {
     "data": {
      "text/plain": [
       "1360000"
      ]
     },
     "execution_count": 11,
     "metadata": {},
     "output_type": "execute_result"
    }
   ],
   "source": [
    "max_three(l)"
   ]
  },
  {
   "cell_type": "code",
   "execution_count": 19,
   "id": "8ac0b38c-d030-43a9-a90d-46446b6a4a1e",
   "metadata": {},
   "outputs": [
    {
     "data": {
      "text/plain": [
       "([34, 23, 2], [-200, -1])"
      ]
     },
     "execution_count": 19,
     "metadata": {},
     "output_type": "execute_result"
    }
   ],
   "source": [
    "a = sorted(l, reverse=True)[:3]\n",
    "b = sorted(l)[:2]\n",
    "a,b"
   ]
  },
  {
   "cell_type": "code",
   "execution_count": 21,
   "id": "d7e7646e-7181-4eb1-8b84-119be2bf9596",
   "metadata": {},
   "outputs": [
    {
     "data": {
      "text/plain": [
       "6800"
      ]
     },
     "execution_count": 21,
     "metadata": {},
     "output_type": "execute_result"
    }
   ],
   "source": [
    "max(a[0] * a[1] * a[2] , a[0] * b[0] * b[1])"
   ]
  },
  {
   "cell_type": "code",
   "execution_count": 23,
   "id": "54b82cdf-2438-464b-91d0-ff48654671fc",
   "metadata": {},
   "outputs": [],
   "source": [
    "nums = [1, 4, 6, 10]\n",
    "target = 10"
   ]
  },
  {
   "cell_type": "code",
   "execution_count": 24,
   "id": "d6b20f7f-6001-49cd-875d-eb8fc5000506",
   "metadata": {},
   "outputs": [],
   "source": []
  },
  {
   "cell_type": "code",
   "execution_count": 25,
   "id": "07c2bb81-98fb-4bb5-983b-93263a95d5f7",
   "metadata": {},
   "outputs": [
    {
     "data": {
      "text/plain": [
       "[-1, -1]"
      ]
     },
     "execution_count": 25,
     "metadata": {},
     "output_type": "execute_result"
    }
   ],
   "source": [
    "two_sum(nums, target)"
   ]
  },
  {
   "cell_type": "code",
   "execution_count": 30,
   "id": "fc95f46f-15ae-498f-8e26-bb33c0fd8cca",
   "metadata": {},
   "outputs": [
    {
     "name": "stdout",
     "output_type": "stream",
     "text": [
      "[0, 1]\n",
      "[0, 2]\n",
      "[0, 3]\n",
      "[1, 0]\n",
      "[1, 2]\n",
      "[1, 3]\n",
      "[2, 0]\n",
      "[2, 1]\n",
      "[2, 3]\n"
     ]
    }
   ],
   "source": [
    "def two_sum(nums: list[int], target: int) -> list[int]:\n",
    "    for i in range(len(nums) - 1):\n",
    "        for j in range(len(nums)):\n",
    "            if i != j:\n",
    "                if target == nums[i] + nums[j]:\n",
    "                    return [i,j]\n",
    "    return [-1, -1]"
   ]
  },
  {
   "cell_type": "markdown",
   "id": "09cb07c3-cb3c-4274-aa31-933654e60d66",
   "metadata": {},
   "source": [
    "#### Two Sum"
   ]
  },
  {
   "cell_type": "code",
   "execution_count": 34,
   "id": "4c6abb72-e18f-4836-8360-5240b1d2e221",
   "metadata": {},
   "outputs": [
    {
     "name": "stdout",
     "output_type": "stream",
     "text": [
      "[1, 2]\n"
     ]
    }
   ],
   "source": [
    "d = {}\n",
    "for i in range(len(nums)):\n",
    "    curr_value = nums[i]\n",
    "    comp_value = target - nums[i]\n",
    "    if comp_value in d:\n",
    "        print ([d[comp_value], i])\n",
    "        break\n",
    "\n",
    "    d[curr_value] = i"
   ]
  },
  {
   "cell_type": "markdown",
   "id": "e81bac62-d0d5-4538-9df1-08f83e327076",
   "metadata": {},
   "source": [
    "#### Largest Prime Factor"
   ]
  },
  {
   "cell_type": "code",
   "execution_count": 73,
   "id": "dcad7f33-7e92-448b-acdd-8807f1e49e83",
   "metadata": {},
   "outputs": [
    {
     "name": "stdout",
     "output_type": "stream",
     "text": [
      "7\n"
     ]
    }
   ],
   "source": [
    "def largest_prime_factor(target):\n",
    "    num = 42\n",
    "    largest_pf = -1000\n",
    "    count = 0\n",
    "    def prime(num):\n",
    "        count = 0\n",
    "        isPrime = False\n",
    "        for i in range(2,int(math.sqrt(num)) + 1):\n",
    "            if num % i == 0:\n",
    "                count += 1\n",
    "        if count == 0:\n",
    "            isPrime = True\n",
    "            return isPrime\n",
    "        return isPrime\n",
    "    for i in range(2,int(math.sqrt(num))+2):\n",
    "        if num%i==0  and prime(i):\n",
    "            largest_pf = i\n",
    "    return largest_pf"
   ]
  },
  {
   "cell_type": "code",
   "execution_count": 58,
   "id": "0c981a96-9949-44d3-b6a2-76ce27c8d113",
   "metadata": {},
   "outputs": [],
   "source": [
    "import math\n",
    "def prime(num):\n",
    "    count = 0\n",
    "    isPrime = False\n",
    "    for i in range(2,int(math.sqrt(num)) + 1):\n",
    "        if num % i == 0:\n",
    "            count += 1\n",
    "    if count == 0:\n",
    "        isPrime = True\n",
    "        return isPrime\n",
    "    return isPrime"
   ]
  },
  {
   "cell_type": "code",
   "execution_count": 69,
   "id": "cff2ced5-71b0-4f80-81bc-bb37632341cd",
   "metadata": {},
   "outputs": [
    {
     "data": {
      "text/plain": [
       "False"
      ]
     },
     "execution_count": 69,
     "metadata": {},
     "output_type": "execute_result"
    }
   ],
   "source": [
    "prime(90)"
   ]
  },
  {
   "cell_type": "code",
   "execution_count": 53,
   "id": "c0e64006-1fe2-4a30-b053-677e44284ce1",
   "metadata": {},
   "outputs": [
    {
     "data": {
      "text/plain": [
       "0"
      ]
     },
     "execution_count": 53,
     "metadata": {},
     "output_type": "execute_result"
    }
   ],
   "source": [
    "num = 19\n",
    "count = 0\n",
    "isPrime = False\n",
    "for i in range(2,int(math.sqrt(num)) + 1):\n",
    "    if num % i == 0:\n",
    "        print(num % i)\n",
    "        count += 1\n",
    "if count == "
   ]
  },
  {
   "cell_type": "code",
   "execution_count": 77,
   "id": "101e4229-52e9-46ae-99e8-0cc4a330ab4f",
   "metadata": {},
   "outputs": [
    {
     "name": "stdout",
     "output_type": "stream",
     "text": [
      "7\n"
     ]
    }
   ],
   "source": [
    "num = 42\n",
    "for i in range(2,int(math.sqrt(num))+1):\n",
    "    if num % i == 0:\n",
    "        num //= i\n",
    "\n",
    "print(num)"
   ]
  },
  {
   "cell_type": "markdown",
   "id": "38a69212-7bf4-4454-af0c-651da45d42eb",
   "metadata": {},
   "source": [
    "#### Smallest Multiple"
   ]
  },
  {
   "cell_type": "code",
   "execution_count": 87,
   "id": "ac2f8aff-2ab5-44d8-b7e9-ce125b15baf4",
   "metadata": {},
   "outputs": [],
   "source": [
    "target = 5\n",
    "nums = list(range(2,target+1))"
   ]
  },
  {
   "cell_type": "code",
   "execution_count": 89,
   "id": "dabc7b3e-c915-44e3-9691-0184fa89a694",
   "metadata": {},
   "outputs": [],
   "source": [
    "for i in nums:\n",
    "    for j in nums:\n",
    "        if j != i and j % i == 0:\n",
    "            nums.remove(i)"
   ]
  },
  {
   "cell_type": "code",
   "execution_count": 91,
   "id": "ac286174-b604-421d-a980-2f827c9376f5",
   "metadata": {},
   "outputs": [
    {
     "data": {
      "text/plain": [
       "60"
      ]
     },
     "execution_count": 91,
     "metadata": {},
     "output_type": "execute_result"
    }
   ],
   "source": [
    "prod = 1\n",
    "for i in nums:\n",
    "    prod *= i\n",
    "prod"
   ]
  },
  {
   "cell_type": "code",
   "execution_count": 96,
   "id": "df3510f8-0c5d-42b1-8f14-adc942499b1f",
   "metadata": {},
   "outputs": [
    {
     "name": "stdout",
     "output_type": "stream",
     "text": [
      "[2, 3, 4, 5]\n",
      "[2, 3, 4, 5]\n",
      "[3, 4, 5]\n",
      "[3, 4, 5]\n",
      "[3, 4, 5]\n",
      "[3, 4, 5]\n",
      "[3, 4, 5]\n",
      "[3, 4, 5]\n",
      "[3, 4, 5]\n"
     ]
    },
    {
     "data": {
      "text/plain": [
       "60"
      ]
     },
     "execution_count": 96,
     "metadata": {},
     "output_type": "execute_result"
    }
   ],
   "source": [
    "def smallest_multiple(target):\n",
    "    nums = list(range(2,target+1))\n",
    "    for i in nums:\n",
    "        for j in nums:\n",
    "            if j != i and j % i == 0:\n",
    "                nums.remove(i)\n",
    "\n",
    "            print(nums)\n",
    "    prod = 1\n",
    "    for i in nums:\n",
    "        prod *= i\n",
    "    return prod\n",
    "\n",
    "smallest_multiple(5)"
   ]
  },
  {
   "cell_type": "code",
   "execution_count": null,
   "id": "a52086c0-5c0c-4350-aa02-cc99e7c80534",
   "metadata": {},
   "outputs": [],
   "source": []
  }
 ],
 "metadata": {
  "kernelspec": {
   "display_name": "Python 3 (ipykernel)",
   "language": "python",
   "name": "python3"
  },
  "language_info": {
   "codemirror_mode": {
    "name": "ipython",
    "version": 3
   },
   "file_extension": ".py",
   "mimetype": "text/x-python",
   "name": "python",
   "nbconvert_exporter": "python",
   "pygments_lexer": "ipython3",
   "version": "3.10.12"
  }
 },
 "nbformat": 4,
 "nbformat_minor": 5
}
